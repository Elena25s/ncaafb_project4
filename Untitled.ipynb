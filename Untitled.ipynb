{
 "cells": [
  {
   "cell_type": "code",
   "execution_count": 2,
   "id": "5ffef719-2301-48c0-9817-be2b35726905",
   "metadata": {},
   "outputs": [],
   "source": [
    "import requests\n",
    "\n",
    "API_KEY      = \"NYii5TfXY5KzhPP7RPf2Wj5eMOxiZPqFI1jDuKMB\"  # Replace with your actual API ke\n",
    "ACCESS_LEVEL = \"trial\"\n",
    "LANGUAGE     = \"en\"\n",
    "FORMAT       = \"json\"\n",
    "SEASON_YEAR  = \"2023\"\n",
    "SEASON_TYPE  = \"REG\"\n",
    "\n",
    "SEASON_SCHEDULE_URL = (\n",
    "    \"https://api.sportradar.com/ncaafb/{access_level}/v7/{language}/games/\"\n",
    "    \"{season_year}/{season_type}/schedule.{format}\"\n",
    ")\n",
    "GAME_STATS_URL = (\n",
    "    \"https://api.sportradar.com/ncaafb/{access_level}/v7/{language}/games/\"\n",
    "    \"{game_id}/statistics.{format}\"\n",
    ")\n",
    "\n",
    "def get_season_game_ids(api_key, access_level, language, season_year, season_type, fmt):\n",
    "    \"\"\"\n",
    "    Returns a flat list of every game GUID in the given season.\n",
    "    \"\"\"\n",
    "    url = SEASON_SCHEDULE_URL.format(\n",
    "        access_level=access_level,\n",
    "        language=language,\n",
    "        season_year=season_year,\n",
    "        season_type=season_type,\n",
    "        format=fmt,\n",
    "    )\n",
    "    resp = requests.get(url, params={\"api_key\": api_key})\n",
    "    resp.raise_for_status()\n",
    "    data = resp.json()\n",
    "    game_ids = []\n",
    "    for week in data.get(\"weeks\", []):\n",
    "        for game in week.get(\"games\", []):\n",
    "            game_ids.append(game[\"id\"])\n",
    "    return game_ids\n",
    "\n",
    "def get_game_statistics(api_key, access_level, language, game_id, fmt):\n",
    "    \"\"\"\n",
    "    Fetch statistics for one game. Raises HTTPError on non-200.\n",
    "    \"\"\"\n",
    "    url = GAME_STATS_URL.format(\n",
    "        access_level=access_level,\n",
    "        language=language,\n",
    "        game_id=game_id,\n",
    "        format=fmt,\n",
    "    )\n",
    "    resp = requests.get(url, params={\"api_key\": api_key})\n",
    "    resp.raise_for_status()\n",
    "    return resp.json()"
   ]
  }
 ],
 "metadata": {
  "kernelspec": {
   "display_name": "Python [conda env:base] *",
   "language": "python",
   "name": "conda-base-py"
  },
  "language_info": {
   "codemirror_mode": {
    "name": "ipython",
    "version": 3
   },
   "file_extension": ".py",
   "mimetype": "text/x-python",
   "name": "python",
   "nbconvert_exporter": "python",
   "pygments_lexer": "ipython3",
   "version": "3.12.7"
  }
 },
 "nbformat": 4,
 "nbformat_minor": 5
}
